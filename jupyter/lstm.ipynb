{
 "cells": [
  {
   "cell_type": "markdown",
   "id": "2797ed4f",
   "metadata": {},
   "source": [
    "# First Blueprint Attempt"
   ]
  },
  {
   "cell_type": "code",
   "execution_count": 1,
   "id": "539829f1",
   "metadata": {},
   "outputs": [],
   "source": [
    "import tensorflow as tf\n",
    "from tensorflow.keras.models import Sequential\n",
    "from tensorflow.keras.layers import Dense, Dropout, LSTM, TimeDistributed \n",
    "from tensorflow.keras.optimizers import SGD\n",
    "import keras\n",
    "import numpy as np"
   ]
  },
  {
   "cell_type": "code",
   "execution_count": 297,
   "id": "cc718bad",
   "metadata": {},
   "outputs": [
    {
     "name": "stdout",
     "output_type": "stream",
     "text": [
      "8\n"
     ]
    }
   ],
   "source": [
    "features = np.array([\n",
    "    [1., 0.], \n",
    "    [0.9, 0.1], \n",
    "    [0.8, 0.2], \n",
    "    [0.2, 0.0], \n",
    "    [0.1, 0.5], \n",
    "    [0., 0.6], \n",
    "    [0.1, 0.8],\n",
    "    [0.1, 0.9]\n",
    "])\n",
    "\n",
    "test_features = np.array([\n",
    "    [1., 0.], \n",
    "    [0.8, 0.2], \n",
    "    [0.7, 0.3], \n",
    "    [0.3, 0.0] \n",
    "])    \n",
    "\n",
    "# we begin to count at the 4th element because we look at sequences of 4 steps... \n",
    "targets = np.array([\n",
    "    [0., 1.], \n",
    "    [0., 0.9], \n",
    "    [0., 0.8], \n",
    "    [0., 0.3], \n",
    "    [0.1, 0.], \n",
    "    [0.4, 0.], \n",
    "    [0.8, 0.],\n",
    "    [1., 0.]    \n",
    "])\n",
    "\n",
    "print(features.shape[0])\n",
    "\n",
    "#features_length = features.shape[0]\n",
    "\n",
    "#features = features.reshape(1, features.shape[0], INPUT_DIM)\n",
    "#targets = targets.reshape(1, targets.shape[0], OUTPUT_DIM)\n",
    "#print(features.shape)\n",
    "\n",
    "#print(features)"
   ]
  },
  {
   "cell_type": "code",
   "execution_count": 14,
   "id": "ae0a8935",
   "metadata": {},
   "outputs": [],
   "source": [
    "def rolling_window2D(a,n):\n",
    "    # a: 2D Input array \n",
    "    # n: Group/sliding window length\n",
    "    return a[np.arange(a.shape[0]-n+1)[:,None] + np.arange(n)]"
   ]
  },
  {
   "cell_type": "code",
   "execution_count": 15,
   "id": "cc9a4c80",
   "metadata": {},
   "outputs": [
    {
     "name": "stdout",
     "output_type": "stream",
     "text": [
      "[[[1.  0. ]\n",
      "  [0.9 0.1]\n",
      "  [0.8 0.2]\n",
      "  [0.2 0. ]]\n",
      "\n",
      " [[0.9 0.1]\n",
      "  [0.8 0.2]\n",
      "  [0.2 0. ]\n",
      "  [0.1 0.5]]\n",
      "\n",
      " [[0.8 0.2]\n",
      "  [0.2 0. ]\n",
      "  [0.1 0.5]\n",
      "  [0.  0.6]]\n",
      "\n",
      " [[0.2 0. ]\n",
      "  [0.1 0.5]\n",
      "  [0.  0.6]\n",
      "  [0.1 0.8]]\n",
      "\n",
      " [[0.1 0.5]\n",
      "  [0.  0.6]\n",
      "  [0.1 0.8]\n",
      "  [0.1 0.9]]]\n"
     ]
    }
   ],
   "source": [
    "features = rolling_window2D(features,4)\n",
    "print(features)"
   ]
  },
  {
   "cell_type": "code",
   "execution_count": 16,
   "id": "95b0b6d6",
   "metadata": {},
   "outputs": [
    {
     "name": "stdout",
     "output_type": "stream",
     "text": [
      "[[[1.  0. ]\n",
      "  [0.8 0.2]\n",
      "  [0.7 0.3]\n",
      "  [0.3 0. ]]]\n"
     ]
    }
   ],
   "source": [
    "test_features = test_features.reshape(1, 4, 2)\n",
    "print(test_features)"
   ]
  },
  {
   "cell_type": "code",
   "execution_count": 17,
   "id": "8fce002c",
   "metadata": {},
   "outputs": [
    {
     "name": "stdout",
     "output_type": "stream",
     "text": [
      "[[0.  0.3]\n",
      " [0.1 0. ]\n",
      " [0.4 0. ]\n",
      " [0.8 0. ]\n",
      " [1.  0. ]]\n"
     ]
    }
   ],
   "source": [
    "# we only have 4 x single batches of sequences and we only want to predict\n",
    "targets = targets[3:]\n",
    "print(targets)"
   ]
  },
  {
   "cell_type": "code",
   "execution_count": 18,
   "id": "7260e70f",
   "metadata": {},
   "outputs": [
    {
     "name": "stdout",
     "output_type": "stream",
     "text": [
      "Epoch 1/20\n",
      "5/5 [==============================] - 1s 3ms/step - loss: 0.1599\n",
      "Epoch 2/20\n",
      "5/5 [==============================] - 0s 3ms/step - loss: 0.1106\n",
      "Epoch 3/20\n",
      "5/5 [==============================] - 0s 3ms/step - loss: 0.1261\n",
      "Epoch 4/20\n",
      "5/5 [==============================] - 0s 3ms/step - loss: 0.1017\n",
      "Epoch 5/20\n",
      "5/5 [==============================] - 0s 3ms/step - loss: 0.0903\n",
      "Epoch 6/20\n",
      "5/5 [==============================] - 0s 4ms/step - loss: 0.0946\n",
      "Epoch 7/20\n",
      "5/5 [==============================] - 0s 3ms/step - loss: 0.0849\n",
      "Epoch 8/20\n",
      "5/5 [==============================] - 0s 3ms/step - loss: 0.0839\n",
      "Epoch 9/20\n",
      "5/5 [==============================] - 0s 3ms/step - loss: 0.0804\n",
      "Epoch 10/20\n",
      "5/5 [==============================] - 0s 3ms/step - loss: 0.0747\n",
      "Epoch 11/20\n",
      "5/5 [==============================] - 0s 3ms/step - loss: 0.0782\n",
      "Epoch 12/20\n",
      "5/5 [==============================] - 0s 3ms/step - loss: 0.0770\n",
      "Epoch 13/20\n",
      "5/5 [==============================] - 0s 3ms/step - loss: 0.0723\n",
      "Epoch 14/20\n",
      "5/5 [==============================] - 0s 3ms/step - loss: 0.0736\n",
      "Epoch 15/20\n",
      "5/5 [==============================] - 0s 3ms/step - loss: 0.0665\n",
      "Epoch 16/20\n",
      "5/5 [==============================] - 0s 3ms/step - loss: 0.0662\n",
      "Epoch 17/20\n",
      "5/5 [==============================] - 0s 3ms/step - loss: 0.0624\n",
      "Epoch 18/20\n",
      "5/5 [==============================] - 0s 3ms/step - loss: 0.0629\n",
      "Epoch 19/20\n",
      "5/5 [==============================] - 0s 3ms/step - loss: 0.0505\n",
      "Epoch 20/20\n",
      "5/5 [==============================] - 0s 3ms/step - loss: 0.0443\n"
     ]
    },
    {
     "data": {
      "text/plain": [
       "<keras.callbacks.History at 0x7fecd4d79490>"
      ]
     },
     "execution_count": 18,
     "metadata": {},
     "output_type": "execute_result"
    }
   ],
   "source": [
    "output_units = 2\n",
    "batch_size = 1\n",
    "time_steps = 4\n",
    "number_of_features = 2\n",
    "epochs = 20\n",
    "\n",
    "model = Sequential()\n",
    "model.add(LSTM(units=128, batch_input_shape=(batch_size, time_steps, number_of_features), stateful=True, return_sequences=False))\n",
    "model.add(Dense(units=output_units, activation='sigmoid'))\n",
    "model.compile(optimizer='rmsprop',loss='mse')\n",
    "model.fit(x=features,y=targets, batch_size=batch_size,  epochs=epochs)\n",
    "\n",
    "\n"
   ]
  },
  {
   "cell_type": "code",
   "execution_count": 19,
   "id": "9e6c2619",
   "metadata": {},
   "outputs": [
    {
     "data": {
      "text/plain": [
       "array([[0.24645644, 0.04081601]], dtype=float32)"
      ]
     },
     "execution_count": 19,
     "metadata": {},
     "output_type": "execute_result"
    }
   ],
   "source": [
    "model.predict(test_features)"
   ]
  },
  {
   "cell_type": "markdown",
   "id": "fa0acbcb",
   "metadata": {},
   "source": [
    "# Run with valid training-data"
   ]
  },
  {
   "cell_type": "code",
   "execution_count": 112,
   "id": "a7598bf7",
   "metadata": {},
   "outputs": [],
   "source": [
    "import tensorflow as tf\n",
    "from tensorflow.keras.models import Sequential\n",
    "from tensorflow.keras.layers import Dense, Dropout, LSTM\n",
    "from tensorflow.keras.optimizers import SGD\n",
    "import keras\n",
    "import numpy as np"
   ]
  },
  {
   "cell_type": "markdown",
   "id": "fc0eba9f",
   "metadata": {},
   "source": [
    "### Meta Params"
   ]
  },
  {
   "cell_type": "code",
   "execution_count": 113,
   "id": "6591590a",
   "metadata": {},
   "outputs": [],
   "source": [
    "output_units = 2\n",
    "batch_size = 1\n",
    "time_steps = 4\n",
    "number_of_features = 2\n",
    "epochs = 1"
   ]
  },
  {
   "cell_type": "markdown",
   "id": "eee28c46",
   "metadata": {},
   "source": [
    "### Load Dataset"
   ]
  },
  {
   "cell_type": "code",
   "execution_count": 114,
   "id": "1e2bcbcb",
   "metadata": {},
   "outputs": [
    {
     "name": "stdout",
     "output_type": "stream",
     "text": [
      "Loading Trainingsdata from File: 220511_104521_Birk-Test-Data_60hz_cl.txt   ...\n",
      "Trainingsdata points:  1800 \n",
      "\n",
      "training_input shape:  (1800, 2) training_output shape:  (1800, 2)\n"
     ]
    }
   ],
   "source": [
    "file_name = '220511_104521_Birk-Test-Data_60hz_cl.txt'\n",
    "file = open(file_name)\n",
    "print('Loading Trainingsdata from File:', file_name,'  ...')\n",
    "values = np.loadtxt(file_name, dtype='float32')\n",
    "print('Trainingsdata points: ', values.shape[0], \"\\n\")\n",
    "#split into input and outputs\n",
    "features, targets = values[:,:-output_units], values[:,number_of_features:]\n",
    "print('training_input shape: ', features.shape, 'training_output shape: ', targets.shape)"
   ]
  },
  {
   "cell_type": "markdown",
   "id": "45aa6e34",
   "metadata": {},
   "source": [
    "### Transform Dataset"
   ]
  },
  {
   "cell_type": "code",
   "execution_count": 115,
   "id": "27ad001b",
   "metadata": {},
   "outputs": [],
   "source": [
    "def rolling_window2D(a,n):\n",
    "    # a: 2D Input array \n",
    "    # n: Group/sliding window length\n",
    "    return a[np.arange(a.shape[0]-n+1)[:,None] + np.arange(n)]"
   ]
  },
  {
   "cell_type": "code",
   "execution_count": 116,
   "id": "4f2ec597",
   "metadata": {},
   "outputs": [],
   "source": [
    "features = rolling_window2D(features,time_steps)\n"
   ]
  },
  {
   "cell_type": "code",
   "execution_count": 117,
   "id": "ed182fa1",
   "metadata": {},
   "outputs": [
    {
     "name": "stdout",
     "output_type": "stream",
     "text": [
      "[[0.02924183 0.9707582 ]\n",
      " [0.02924183 0.9707582 ]\n",
      " [0.02924183 0.9707582 ]\n",
      " ...\n",
      " [0.8945754  0.10542458]\n",
      " [0.8945754  0.10542458]\n",
      " [0.8945754  0.10542458]]\n"
     ]
    }
   ],
   "source": [
    "# we only have 4 x single batches of sequences and we only want to predict\n",
    "targets = targets[time_steps-1:]\n",
    "print(targets)"
   ]
  },
  {
   "cell_type": "markdown",
   "id": "c1fce97c",
   "metadata": {},
   "source": [
    "### Build LSTM Model"
   ]
  },
  {
   "cell_type": "code",
   "execution_count": 133,
   "id": "56d03d7b",
   "metadata": {},
   "outputs": [],
   "source": [
    "model = Sequential()\n",
    "model.add(LSTM(units=128, batch_input_shape=(batch_size, time_steps, number_of_features), stateful=True, return_sequences=True))\n",
    "model.add(LSTM(units=128, batch_input_shape=(batch_size, time_steps, number_of_features), stateful=True, return_sequences=False))\n",
    "\n",
    "model.add(Dense(units=output_units, activation='sigmoid'))\n",
    "model.compile(optimizer='rmsprop',loss='mse')\n"
   ]
  },
  {
   "cell_type": "markdown",
   "id": "6fe7a20d",
   "metadata": {},
   "source": [
    "### Train"
   ]
  },
  {
   "cell_type": "code",
   "execution_count": 134,
   "id": "1e7b11e1",
   "metadata": {},
   "outputs": [
    {
     "name": "stdout",
     "output_type": "stream",
     "text": [
      "1797/1797 [==============================] - 8s 3ms/step - loss: 0.0051\n"
     ]
    },
    {
     "data": {
      "text/plain": [
       "<keras.callbacks.History at 0x7fecc9b46450>"
      ]
     },
     "execution_count": 134,
     "metadata": {},
     "output_type": "execute_result"
    }
   ],
   "source": [
    "model.fit(x=features,y=targets, batch_size=batch_size,  epochs=epochs)"
   ]
  },
  {
   "cell_type": "markdown",
   "id": "968921c6",
   "metadata": {},
   "source": [
    "### Predict Values"
   ]
  },
  {
   "cell_type": "code",
   "execution_count": 139,
   "id": "bd973e95",
   "metadata": {},
   "outputs": [
    {
     "data": {
      "text/plain": [
       "array([[0.7910385 , 0.20813364]], dtype=float32)"
      ]
     },
     "execution_count": 139,
     "metadata": {},
     "output_type": "execute_result"
    }
   ],
   "source": [
    "test_features = np.array([\n",
    "    [-0.5, 0.], \n",
    "    [-0.6, 0.1], \n",
    "    [-0.5, 0.2], \n",
    "    [-0.6, 0.1], \n",
    "])    \n",
    "\n",
    "test_features = test_features.reshape(1, 4, 2)\n",
    "#print(test_features)\n",
    "model.predict(test_features)"
   ]
  },
  {
   "cell_type": "code",
   "execution_count": 138,
   "id": "0c5ad2ae",
   "metadata": {},
   "outputs": [
    {
     "data": {
      "text/plain": [
       "array([[0.04859897, 0.95059055]], dtype=float32)"
      ]
     },
     "execution_count": 138,
     "metadata": {},
     "output_type": "execute_result"
    }
   ],
   "source": [
    "test_features = np.array([\n",
    "    [0., -0.6], \n",
    "    [0.1, -0.5], \n",
    "    [0.2, -0.4], \n",
    "    [0.1, -0.6], \n",
    "])    \n",
    "\n",
    "test_features = test_features.reshape(1, 4, 2)\n",
    "model.predict(test_features)\n",
    "#print(test_features)"
   ]
  },
  {
   "cell_type": "markdown",
   "id": "762ecdd2",
   "metadata": {},
   "source": [
    "# Dynamic Features and Outputs"
   ]
  },
  {
   "cell_type": "code",
   "execution_count": 31,
   "id": "fae99525",
   "metadata": {},
   "outputs": [],
   "source": [
    "import tensorflow as tf\n",
    "from tensorflow.keras.models import Sequential\n",
    "from tensorflow.keras.layers import Dense, Dropout, LSTM\n",
    "from tensorflow.keras.optimizers import SGD\n",
    "import keras\n",
    "import numpy as np\n",
    "\n",
    "output_units = 8\n",
    "batch_size = 1\n",
    "time_steps = 8\n",
    "number_of_features = 67\n",
    "epochs = 1"
   ]
  },
  {
   "cell_type": "code",
   "execution_count": 32,
   "id": "78300083",
   "metadata": {},
   "outputs": [
    {
     "name": "stdout",
     "output_type": "stream",
     "text": [
      "Loading Trainingsdata from File: training_file_crashes.txt   ...\n",
      "Trainingsdata points:  7136 \n",
      "\n",
      "training_input shape:  (7136, 67) training_output shape:  (7136, 8)\n"
     ]
    }
   ],
   "source": [
    "file_name = 'training_file_crashes.txt'\n",
    "file = open(file_name)\n",
    "print('Loading Trainingsdata from File:', file_name,'  ...')\n",
    "values = np.loadtxt(file_name, dtype='float32', skiprows=1)\n",
    "print('Trainingsdata points: ', values.shape[0], \"\\n\")\n",
    "#split into input and outputs\n",
    "features, targets = values[:,:-output_units], values[:,number_of_features:]\n",
    "print('training_input shape: ', features.shape, 'training_output shape: ', targets.shape)"
   ]
  },
  {
   "cell_type": "code",
   "execution_count": 33,
   "id": "060b8bf7",
   "metadata": {},
   "outputs": [
    {
     "name": "stdout",
     "output_type": "stream",
     "text": [
      "(7129, 8, 67)\n"
     ]
    }
   ],
   "source": [
    "def rolling_window2D(a,n):\n",
    "    # a: 2D Input array \n",
    "    # n: Group/sliding window length\n",
    "    return a[np.arange(a.shape[0]-n+1)[:,None] + np.arange(n)]\n",
    "\n",
    "features = rolling_window2D(features,time_steps)\n",
    "print(features.shape)"
   ]
  },
  {
   "cell_type": "code",
   "execution_count": 34,
   "id": "f11dd5f5",
   "metadata": {},
   "outputs": [
    {
     "name": "stdout",
     "output_type": "stream",
     "text": [
      "(7129, 8)\n"
     ]
    }
   ],
   "source": [
    "targets = targets[time_steps-1:]\n",
    "print(targets.shape)"
   ]
  },
  {
   "cell_type": "code",
   "execution_count": 35,
   "id": "98c1e616",
   "metadata": {},
   "outputs": [],
   "source": [
    "model = Sequential()\n",
    "model.add(LSTM(units=128, batch_input_shape=(batch_size, time_steps, number_of_features), stateful=True, return_sequences=True))\n",
    "model.add(LSTM(units=128, batch_input_shape=(batch_size, time_steps, number_of_features), stateful=True, return_sequences=False))\n",
    "model.add(Dense(units=output_units, activation='sigmoid'))\n",
    "model.compile(optimizer='rmsprop',loss='mse')"
   ]
  },
  {
   "cell_type": "code",
   "execution_count": 36,
   "id": "a0ae91c9",
   "metadata": {},
   "outputs": [
    {
     "name": "stdout",
     "output_type": "stream",
     "text": [
      "7129/7129 [==============================] - 36s 5ms/step - loss: 0.0361\n"
     ]
    },
    {
     "data": {
      "text/plain": [
       "<keras.callbacks.History at 0x7ffc50ab4650>"
      ]
     },
     "execution_count": 36,
     "metadata": {},
     "output_type": "execute_result"
    }
   ],
   "source": [
    "model.fit(x=features,y=targets, batch_size=batch_size,  epochs=epochs)"
   ]
  },
  {
   "cell_type": "code",
   "execution_count": 37,
   "id": "71e2da63",
   "metadata": {},
   "outputs": [
    {
     "data": {
      "text/plain": [
       "array([[0.877529  , 0.01209083, 0.00120312, 0.004448  , 0.00117955,\n",
       "        0.00223258, 0.00155881, 0.01792154]], dtype=float32)"
      ]
     },
     "execution_count": 37,
     "metadata": {},
     "output_type": "execute_result"
    }
   ],
   "source": [
    "model.predict(features[0:1])"
   ]
  },
  {
   "cell_type": "code",
   "execution_count": 38,
   "id": "30896b2c",
   "metadata": {},
   "outputs": [
    {
     "data": {
      "text/plain": [
       "array([[9.4137836e-01, 1.5754580e-02, 8.8590384e-04, 3.3599734e-03,\n",
       "        1.8724203e-03, 2.1944642e-03, 9.9822879e-04, 9.1899037e-03]],\n",
       "      dtype=float32)"
      ]
     },
     "execution_count": 38,
     "metadata": {},
     "output_type": "execute_result"
    }
   ],
   "source": [
    "model.predict(features[1:2])"
   ]
  },
  {
   "cell_type": "markdown",
   "id": "524ac532",
   "metadata": {},
   "source": [
    "# Reformat Prediction Input"
   ]
  },
  {
   "cell_type": "code",
   "execution_count": 14,
   "id": "a61dc233",
   "metadata": {},
   "outputs": [
    {
     "data": {
      "text/plain": [
       "(1, 8, 85)"
      ]
     },
     "execution_count": 14,
     "metadata": {},
     "output_type": "execute_result"
    }
   ],
   "source": [
    "features[2:3].shape"
   ]
  },
  {
   "cell_type": "code",
   "execution_count": 15,
   "id": "fccd2560",
   "metadata": {},
   "outputs": [],
   "source": [
    "test_features = np.array([\n",
    "        [0.9045079 , 0.7938918 , 0.6545075 , 0.9045079 , 0.7938918 ,\n",
    "         0.6545075 , 0.9045079 , 0.7938918 , 0.6545075 , 0.9045079 ,\n",
    "         0.7938918 , 0.6545075 , 0.9045079 , 0.7938918 , 0.6545075 ,\n",
    "         0.9045079 , 0.7938918 , 0.6545075 , 0.9045079 , 0.7938918 ,\n",
    "         0.6545075 , 0.9045079 , 0.7938918 , 0.6545075 , 0.9045079 ,\n",
    "         0.7938918 , 0.6545075 , 0.9045079 , 0.7938918 , 0.6545075 ,\n",
    "         0.9045079 , 0.7938918 , 0.6545075 , 0.9045079 , 0.7938918 ,\n",
    "         0.6545075 , 0.9045079 , 0.7938918 , 0.6545075 , 0.9045079 ,\n",
    "         0.7938918 , 0.6545075 , 0.9045079 , 0.7938918 , 0.6545075 ,\n",
    "         0.9045079 , 0.7938918 , 0.6545075 , 0.9045079 , 0.7938918 ,\n",
    "         0.6545075 , 0.9045079 , 0.7938918 , 0.6545075 , 0.9567732 ,\n",
    "         0.8715731 , 0.7500009 , 0.6039568 , 0.9567732 , 0.8715731 ,\n",
    "         0.7500009 , 0.6039568 , 0.9567732 , 0.8715731 , 0.7500009 ,\n",
    "         0.6039568 , 0.9567732 , 0.8715731 , 0.7500009 , 0.6039568 ,\n",
    "         0.9567732 , 0.8715731 , 0.7500009 , 0.6039568 , 0.9567732 ,\n",
    "         0.8715731 , 0.7500009 , 0.6039568 , 0.4477368 , 0.2966326 ,\n",
    "         0.1654355 , 0.06698781, 0.01092643, 0.00273895, 0.04322687],\n",
    "        [0.8345646 , 0.7033674 , 0.5522632 , 0.8345646 , 0.7033674 ,\n",
    "         0.5522632 , 0.8345646 , 0.7033674 , 0.5522632 , 0.8345646 ,\n",
    "         0.7033674 , 0.5522632 , 0.8345646 , 0.7033674 , 0.5522632 ,\n",
    "         0.8345646 , 0.7033674 , 0.5522632 , 0.8345646 , 0.7033674 ,\n",
    "         0.5522632 , 0.8345646 , 0.7033674 , 0.5522632 , 0.8345646 ,\n",
    "         0.7033674 , 0.5522632 , 0.8345646 , 0.7033674 , 0.5522632 ,\n",
    "         0.8345646 , 0.7033674 , 0.5522632 , 0.8345646 , 0.7033674 ,\n",
    "         0.5522632 , 0.8345646 , 0.7033674 , 0.5522632 , 0.8345646 ,\n",
    "         0.7033674 , 0.5522632 , 0.8345646 , 0.7033674 , 0.5522632 ,\n",
    "         0.8345646 , 0.7033674 , 0.5522632 , 0.8345646 , 0.7033674 ,\n",
    "         0.5522632 , 0.8345646 , 0.7033674 , 0.5522632 , 0.9045091 ,\n",
    "         0.7938935 , 0.6545095 , 0.500001  , 0.9045091 , 0.7938935 ,\n",
    "         0.6545095 , 0.500001  , 0.9045091 , 0.7938935 , 0.6545095 ,\n",
    "         0.500001  , 0.9045091 , 0.7938935 , 0.6545095 , 0.500001  ,\n",
    "         0.9045091 , 0.7938935 , 0.6545095 , 0.500001  , 0.9045091 ,\n",
    "         0.7938935 , 0.6545095 , 0.500001  , 0.3454925 , 0.2061082 ,\n",
    "         0.09549212, 0.02447206, 0.        , 0.02447143, 0.0954909 ],\n",
    "        [0.7033674 , 0.5522632 , 0.3960431 , 0.7033674 , 0.5522632 ,\n",
    "         0.3960431 , 0.7033674 , 0.5522632 , 0.3960431 , 0.7033674 ,\n",
    "         0.5522632 , 0.3960431 , 0.7033674 , 0.5522632 , 0.3960431 ,\n",
    "         0.7033674 , 0.5522632 , 0.3960431 , 0.7033674 , 0.5522632 ,\n",
    "         0.3960431 , 0.7033674 , 0.5522632 , 0.3960431 , 0.7033674 ,\n",
    "         0.5522632 , 0.3960431 , 0.7033674 , 0.5522632 , 0.3960431 ,\n",
    "         0.7033674 , 0.5522632 , 0.3960431 , 0.7033674 , 0.5522632 ,\n",
    "         0.3960431 , 0.7033674 , 0.5522632 , 0.3960431 , 0.7033674 ,\n",
    "         0.5522632 , 0.3960431 , 0.7033674 , 0.5522632 , 0.3960431 ,\n",
    "         0.7033674 , 0.5522632 , 0.3960431 , 0.7033674 , 0.5522632 ,\n",
    "         0.3960431 , 0.7033674 , 0.5522632 , 0.3960431 , 0.7938935 ,\n",
    "         0.6545095 , 0.500001  , 0.3454925 , 0.7938935 , 0.6545095 ,\n",
    "         0.500001  , 0.3454925 , 0.7938935 , 0.6545095 , 0.500001  ,\n",
    "         0.3454925 , 0.7938935 , 0.6545095 , 0.500001  , 0.3454925 ,\n",
    "         0.7938935 , 0.6545095 , 0.500001  , 0.3454925 , 0.7938935 ,\n",
    "         0.6545095 , 0.500001  , 0.3454925 , 0.2061082 , 0.09549212,\n",
    "         0.02447206, 0.        , 0.02447143, 0.09549087, 0.2061065 ],\n",
    "        [0.5522632 , 0.3960431 , 0.2499991 , 0.5522632 , 0.3960431 ,\n",
    "         0.2499991 , 0.5522632 , 0.3960431 , 0.2499991 , 0.5522632 ,\n",
    "         0.3960431 , 0.2499991 , 0.5522632 , 0.3960431 , 0.2499991 ,\n",
    "         0.5522632 , 0.3960431 , 0.2499991 , 0.5522632 , 0.3960431 ,\n",
    "         0.2499991 , 0.5522632 , 0.3960431 , 0.2499991 , 0.5522632 ,\n",
    "         0.3960431 , 0.2499991 , 0.5522632 , 0.3960431 , 0.2499991 ,\n",
    "         0.5522632 , 0.3960431 , 0.2499991 , 0.5522632 , 0.3960431 ,\n",
    "         0.2499991 , 0.5522632 , 0.3960431 , 0.2499991 , 0.5522632 ,\n",
    "         0.3960431 , 0.2499991 , 0.5522632 , 0.3960431 , 0.2499991 ,\n",
    "         0.5522632 , 0.3960431 , 0.2499991 , 0.5522632 , 0.3960431 ,\n",
    "         0.2499991 , 0.5522632 , 0.3960431 , 0.2499991 , 0.6545095 ,\n",
    "         0.5000011 , 0.3454925 , 0.2061082 , 0.6545095 , 0.5000011 ,\n",
    "         0.3454925 , 0.2061082 , 0.6545095 , 0.5000011 , 0.3454925 ,\n",
    "         0.2061082 , 0.6545095 , 0.5000011 , 0.3454925 , 0.2061082 ,\n",
    "         0.6545095 , 0.5000011 , 0.3454925 , 0.2061082 , 0.6545095 ,\n",
    "         0.5000011 , 0.3454925 , 0.2061082 , 0.09549212, 0.02447206,\n",
    "         0.        , 0.02447143, 0.0954909 , 0.2061065 , 0.3454905 ],\n",
    "        [0.3960431 , 0.2499991 , 0.1284269 , 0.3960431 , 0.2499991 ,\n",
    "         0.1284269 , 0.3960431 , 0.2499991 , 0.1284269 , 0.3960431 ,\n",
    "         0.2499991 , 0.1284269 , 0.3960431 , 0.2499991 , 0.1284269 ,\n",
    "         0.3960431 , 0.2499991 , 0.1284269 , 0.3960431 , 0.2499991 ,\n",
    "         0.1284269 , 0.3960431 , 0.2499991 , 0.1284269 , 0.3960431 ,\n",
    "         0.2499991 , 0.1284269 , 0.3960431 , 0.2499991 , 0.1284269 ,\n",
    "         0.3960431 , 0.2499991 , 0.1284269 , 0.3960431 , 0.2499991 ,\n",
    "         0.1284269 , 0.3960431 , 0.2499991 , 0.1284269 , 0.3960431 ,\n",
    "         0.2499991 , 0.1284269 , 0.3960431 , 0.2499991 , 0.1284269 ,\n",
    "         0.3960431 , 0.2499991 , 0.1284269 , 0.3960431 , 0.2499991 ,\n",
    "         0.1284269 , 0.3960431 , 0.2499991 , 0.1284269 , 0.5000011 ,\n",
    "         0.3454925 , 0.2061082 , 0.09549209, 0.5000011 , 0.3454925 ,\n",
    "         0.2061082 , 0.09549209, 0.5000011 , 0.3454925 , 0.2061082 ,\n",
    "         0.09549209, 0.5000011 , 0.3454925 , 0.2061082 , 0.09549209,\n",
    "         0.5000011 , 0.3454925 , 0.2061082 , 0.09549209, 0.5000011 ,\n",
    "         0.3454925 , 0.2061082 , 0.09549209, 0.02447206, 0.        ,\n",
    "         0.02447143, 0.0954909 , 0.2061065 , 0.3454905 , 0.499999  ],\n",
    "        [0.2499991 , 0.1284269 , 0.04322684, 0.2499991 , 0.1284269 ,\n",
    "         0.04322684, 0.2499991 , 0.1284269 , 0.04322684, 0.2499991 ,\n",
    "         0.1284269 , 0.04322684, 0.2499991 , 0.1284269 , 0.04322684,\n",
    "         0.2499991 , 0.1284269 , 0.04322684, 0.2499991 , 0.1284269 ,\n",
    "         0.04322684, 0.2499991 , 0.1284269 , 0.04322684, 0.2499991 ,\n",
    "         0.1284269 , 0.04322684, 0.2499991 , 0.1284269 , 0.04322684,\n",
    "         0.2499991 , 0.1284269 , 0.04322684, 0.2499991 , 0.1284269 ,\n",
    "         0.04322684, 0.2499991 , 0.1284269 , 0.04322684, 0.2499991 ,\n",
    "         0.1284269 , 0.04322684, 0.2499991 , 0.1284269 , 0.04322684,\n",
    "         0.2499991 , 0.1284269 , 0.04322684, 0.2499991 , 0.1284269 ,\n",
    "         0.04322684, 0.2499991 , 0.1284269 , 0.04322684, 0.3454925 ,\n",
    "         0.2061082 , 0.09549212, 0.02447206, 0.3454925 , 0.2061082 ,\n",
    "         0.09549212, 0.02447206, 0.3454925 , 0.2061082 , 0.09549212,\n",
    "         0.02447206, 0.3454925 , 0.2061082 , 0.09549212, 0.02447206,\n",
    "         0.3454925 , 0.2061082 , 0.09549212, 0.02447206, 0.3454925 ,\n",
    "         0.2061082 , 0.09549212, 0.02447206, 0.        , 0.02447143,\n",
    "         0.0954909 , 0.2061065 , 0.3454905 , 0.499999  , 0.6545075 ],\n",
    "        [0.1654339 , 0.06698677, 0.01092598, 0.1654339 , 0.06698677,\n",
    "         0.01092598, 0.1654339 , 0.06698677, 0.01092598, 0.1654339 ,\n",
    "         0.06698677, 0.01092598, 0.1654339 , 0.06698677, 0.01092598,\n",
    "         0.1654339 , 0.06698677, 0.01092598, 0.1654339 , 0.06698677,\n",
    "         0.01092598, 0.1654339 , 0.06698677, 0.01092598, 0.1654339 ,\n",
    "         0.06698677, 0.01092598, 0.1654339 , 0.06698677, 0.01092598,\n",
    "         0.1654339 , 0.06698677, 0.01092598, 0.1654339 , 0.06698677,\n",
    "         0.01092598, 0.1654339 , 0.06698677, 0.01092598, 0.1654339 ,\n",
    "         0.06698677, 0.01092598, 0.1654339 , 0.06698677, 0.01092598,\n",
    "         0.1654339 , 0.06698677, 0.01092598, 0.1654339 , 0.06698677,\n",
    "         0.01092598, 0.1654339 , 0.06698677, 0.01092598, 0.2500009 ,\n",
    "         0.1284283 , 0.0432277 , 0.00273916, 0.2500009 , 0.1284283 ,\n",
    "         0.0432277 , 0.00273916, 0.2500009 , 0.1284283 , 0.0432277 ,\n",
    "         0.00273916, 0.2500009 , 0.1284283 , 0.0432277 , 0.00273916,\n",
    "         0.2500009 , 0.1284283 , 0.0432277 , 0.00273916, 0.2500009 ,\n",
    "         0.1284283 , 0.0432277 , 0.00273916, 0.01092598, 0.06698677,\n",
    "         0.1654339 , 0.2966307 , 0.4477347 , 0.6039548 , 0.7499991 ],\n",
    "        [0.06698677, 0.01092598, 0.00273916, 0.06698677, 0.01092598,\n",
    "         0.00273916, 0.06698677, 0.01092598, 0.00273916, 0.06698677,\n",
    "         0.01092598, 0.00273916, 0.06698677, 0.01092598, 0.00273916,\n",
    "         0.06698677, 0.01092598, 0.00273916, 0.06698677, 0.01092598,\n",
    "         0.00273916, 0.06698677, 0.01092598, 0.00273916, 0.06698677,\n",
    "         0.01092598, 0.00273916, 0.06698677, 0.01092598, 0.00273916,\n",
    "         0.06698677, 0.01092598, 0.00273916, 0.06698677, 0.01092598,\n",
    "         0.00273916, 0.06698677, 0.01092598, 0.00273916, 0.06698677,\n",
    "         0.01092598, 0.00273916, 0.06698677, 0.01092598, 0.00273916,\n",
    "         0.06698677, 0.01092598, 0.00273916, 0.06698677, 0.01092598,\n",
    "         0.00273916, 0.06698677, 0.01092598, 0.00273916, 0.1284283 ,\n",
    "         0.0432277 , 0.00273916, 0.01092598, 0.1284283 , 0.0432277 ,\n",
    "         0.00273916, 0.01092598, 0.1284283 , 0.0432277 , 0.00273916,\n",
    "         0.01092598, 0.1284283 , 0.0432277 , 0.00273916, 0.01092598,\n",
    "         0.1284283 , 0.0432277 , 0.00273916, 0.01092598, 0.1284283 ,\n",
    "         0.0432277 , 0.00273916, 0.01092598, 0.06698677, 0.1654339 ,\n",
    "         0.2966307 , 0.4477347 , 0.6039549 , 0.7499991 , 0.8715718 ]\n",
    "])"
   ]
  },
  {
   "cell_type": "markdown",
   "id": "f4986538",
   "metadata": {},
   "source": [
    "### Add a dimension to fit out prediciton model"
   ]
  },
  {
   "cell_type": "code",
   "execution_count": 16,
   "id": "78d04e7a",
   "metadata": {},
   "outputs": [
    {
     "name": "stdout",
     "output_type": "stream",
     "text": [
      "(8, 85)\n",
      "(1, 8, 85)\n"
     ]
    }
   ],
   "source": [
    "print(test_features.shape)\n",
    "test_features = np.expand_dims(test_features, axis=0)\n",
    "print(test_features.shape)"
   ]
  },
  {
   "cell_type": "code",
   "execution_count": 17,
   "id": "9fbc7cf0",
   "metadata": {},
   "outputs": [
    {
     "data": {
      "text/plain": [
       "array([[0.19760081, 0.14323074, 0.10679573, 0.10203171, 0.1187281 ,\n",
       "        0.16261858, 0.34634566, 0.46769774]], dtype=float32)"
      ]
     },
     "execution_count": 17,
     "metadata": {},
     "output_type": "execute_result"
    }
   ],
   "source": [
    "model.predict(test_features)"
   ]
  },
  {
   "cell_type": "code",
   "execution_count": 21,
   "id": "1808cbf1",
   "metadata": {},
   "outputs": [
    {
     "name": "stdout",
     "output_type": "stream",
     "text": [
      "Loading Trainingsdata from File: training_file_crashes.txt   ...\n",
      "Trainingsdata points:  7136 \n",
      "\n",
      "training_input shape:  (7136, 67) training_output shape:  (7136, 8)\n"
     ]
    }
   ],
   "source": [
    "file_name = 'training_file_crashes.txt'\n",
    "file = open(file_name)\n",
    "print('Loading Trainingsdata from File:', file_name,'  ...')\n",
    "values = np.loadtxt(file_name, dtype='float32', skiprows=1)\n",
    "print('Trainingsdata points: ', values.shape[0], \"\\n\")\n",
    "#split into input and outputs\n",
    "features, targets = values[:,:-output_units], values[:,number_of_features:]\n",
    "print('training_input shape: ', features.shape, 'training_output shape: ', targets.shape)"
   ]
  },
  {
   "cell_type": "code",
   "execution_count": null,
   "id": "93e974c6",
   "metadata": {},
   "outputs": [],
   "source": []
  }
 ],
 "metadata": {
  "kernelspec": {
   "display_name": "Python 3 (ipykernel)",
   "language": "python",
   "name": "python3"
  },
  "language_info": {
   "codemirror_mode": {
    "name": "ipython",
    "version": 3
   },
   "file_extension": ".py",
   "mimetype": "text/x-python",
   "name": "python",
   "nbconvert_exporter": "python",
   "pygments_lexer": "ipython3",
   "version": "3.7.13"
  }
 },
 "nbformat": 4,
 "nbformat_minor": 5
}
